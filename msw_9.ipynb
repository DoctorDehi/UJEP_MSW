{
 "cells": [
  {
   "cell_type": "markdown",
   "id": "154e7168",
   "metadata": {},
   "source": [
    "## 9. Integrace funkce jedné proměnné\n",
    "V oblasti přírodních a sociálních věd je velice důležitým pojmem integrál, který představuje funkci součtů malých změn (počet nakažených covidem za čas, hustota monomerů daného typu při posouvání se v řetízku polymeru, aj.). Integraci lze provádět pro velmi jednoduché funkce prostou Riemannovým součtem, avšak pro složitější funkce je nutné využít pokročilé metody. Vaším úkolem je vybrat si 3 různorodé funkce (polynom, harmonická funkce, logaritmus/exponenciála) a vypočíst určitý integrál na dané funkci od nějakého počátku do nějakého konečného bodu. Porovnejte, jak si každá z metod poradila s vámi vybranou funkcí na základě přesnosti vůči analytickému řešení."
   ]
  },
  {
   "cell_type": "code",
   "execution_count": 5,
   "id": "e2b1026c",
   "metadata": {},
   "outputs": [],
   "source": [
    "import numpy as np\n",
    "from scipy import integrate\n",
    "import sympy"
   ]
  },
  {
   "cell_type": "code",
   "execution_count": 1,
   "id": "184cb404",
   "metadata": {},
   "outputs": [],
   "source": [
    "# zvolene funkce\n",
    "def f(x):\n",
    "    return x**3 + x**2 - 2\n",
    "    \n",
    "def g(x):\n",
    "    return np.sin(2*x - 8) - 5\n",
    "    \n",
    "def h(x):\n",
    "    return (35/67)**x"
   ]
  },
  {
   "cell_type": "code",
   "execution_count": 3,
   "id": "ed085bec",
   "metadata": {},
   "outputs": [],
   "source": [
    "# implementace pomocí standardního Pythonu\n",
    "def urcity_integral(f, a, b, dx):\n",
    "    integral = 0\n",
    "    x = a\n",
    "    while x < b:\n",
    "        integral += dx * (f(x) + f(x+dx))/2\n",
    "        x += dx\n",
    "    return integral\n",
    "\n",
    "import math\n",
    "import numpy as np\n",
    "x_symbol = sympy.Symbol(\"x\")"
   ]
  },
  {
   "cell_type": "code",
   "execution_count": 6,
   "id": "c3d49785",
   "metadata": {},
   "outputs": [
    {
     "name": "stdout",
     "output_type": "stream",
     "text": [
      "Polynom\n",
      "SymPy\n",
      "x**4/4 + x**3/3 - 2*x\n",
      "Výsledek: 42626.6666666667\n",
      "\n",
      "Trapezoid: 42627.7, odchylka: 1.03333333333285\n",
      "Simpson: 42626.66666666667, odchylka: 7.27595761418343E-12\n",
      "Romberg: 42626.666666666664, odchylka: 0\n",
      "Standardní Python: 42627.69999999985, odchylk: 1.03333333318733\n"
     ]
    }
   ],
   "source": [
    "print(\"Polynom\")\n",
    "# reseni pomoci SymPy\n",
    "a = 0\n",
    "b = 20\n",
    "dx = 0.1\n",
    "\n",
    "f_integrovana = sympy.integrate(x_symbol**3 + x_symbol**2 - 2, x_symbol)\n",
    "print(\"SymPy\")\n",
    "print(f_integrovana)\n",
    "vysledek = f_integrovana.evalf(subs={x_symbol: b}) - f_integrovana.evalf(subs={x_symbol: a})\n",
    "print(f'Výsledek: {vysledek}')\n",
    "print()\n",
    "\n",
    "# reseni pomoci SciPy\n",
    "x = np.arange(a, b+dx, dx)\n",
    "y = f(x)\n",
    "f_trapz = integrate.trapezoid(y, x=x)\n",
    "print(f'Trapezoid: {f_trapz}, odchylka: {abs(f_trapz - vysledek)}')\n",
    "f_simp = integrate.simpson(y=y, x=x)\n",
    "print(f'Simpson: {f_simp}, odchylka: {abs(f_simp - vysledek)}')\n",
    "f_rom = integrate.romberg(f, a, b)\n",
    "print(f'Romberg: {f_rom}, odchylka: {abs(f_rom - vysledek)}')\n",
    "\n",
    "# reseni pomoci standardniho Pythonu\n",
    "f_stan = urcity_integral(f, a, b, dx)\n",
    "print(f'Standardní Python: {f_stan}, odchylk: {abs(f_stan - vysledek)}')"
   ]
  },
  {
   "cell_type": "code",
   "execution_count": 7,
   "id": "95814ea7",
   "metadata": {},
   "outputs": [
    {
     "name": "stdout",
     "output_type": "stream",
     "text": [
      "Harmonická funkce\n",
      "SymPy\n",
      "-5*x - cos(2*x - 8)/2\n",
      "Výsledek: -30.0780730206338\n",
      "\n",
      "Trapezoid: -30.077812603570667, odchylka: 0.000260417063085328\n",
      "Simpson: -30.078073717934796, odchylka: 6.97301043572907E-7\n",
      "Romberg: -30.07807302063335, odchylka: 4.01456645704457E-13\n",
      "Standardní Python: -30.077812603570635, odchylk: 0.000260417063117302\n"
     ]
    }
   ],
   "source": [
    "print('Harmonická funkce')\n",
    "# reseni pomoci SymPy\n",
    "a = -2\n",
    "b = 4\n",
    "dx = 0.1\n",
    "\n",
    "g_integrovana = sympy.integrate(sympy.sin(2*x_symbol - 8) - 5)\n",
    "print(\"SymPy\")\n",
    "print(g_integrovana)\n",
    "vysledek = g_integrovana.evalf(subs={x_symbol: b}) - g_integrovana.evalf(subs={x_symbol: a})\n",
    "print(f'Výsledek: {vysledek}')\n",
    "print()\n",
    "\n",
    "# reseni pomoci SciPy\n",
    "x = np.arange(a, b+dx, dx)\n",
    "y = g(x)\n",
    "g_trapz = integrate.trapezoid(y, x=x)\n",
    "print(f'Trapezoid: {g_trapz}, odchylka: {abs(g_trapz - vysledek)}')\n",
    "g_simp = integrate.simpson(y=y, x=x)\n",
    "print(f'Simpson: {g_simp}, odchylka: {abs(g_simp - vysledek)}')\n",
    "g_rom = integrate.romberg(g, a, b)\n",
    "print(f'Romberg: {g_rom}, odchylka: {abs(g_rom - vysledek)}')\n",
    "\n",
    "# reseni pomoci standardniho Pythonu\n",
    "g_stan = urcity_integral(g, a, b, dx)\n",
    "print(f'Standardní Python: {g_stan}, odchylk: {abs(g_stan - vysledek)}')"
   ]
  },
  {
   "cell_type": "code",
   "execution_count": null,
   "id": "1d09f212",
   "metadata": {},
   "outputs": [],
   "source": []
  }
 ],
 "metadata": {
  "kernelspec": {
   "display_name": "Python 3 (ipykernel)",
   "language": "python",
   "name": "python3"
  },
  "language_info": {
   "codemirror_mode": {
    "name": "ipython",
    "version": 3
   },
   "file_extension": ".py",
   "mimetype": "text/x-python",
   "name": "python",
   "nbconvert_exporter": "python",
   "pygments_lexer": "ipython3",
   "version": "3.9.7"
  }
 },
 "nbformat": 4,
 "nbformat_minor": 5
}
