{
 "cells": [
  {
   "cell_type": "markdown",
   "id": "989f2f44",
   "metadata": {},
   "source": [
    "## 1. Knihovny a moduly pro matematické výpočty\n",
    "V tomto kurzu jste se učili s některými vybranými knihovnami. Některé sloužily pro rychlé vektorové operace jako numpy, některé mají naprogramovány symbolické manipulace, které lze převést na numerické reprezentace (sympy), některé mají v sobě funkce pro numerickou integraci (scipy). Některé slouží i pro rychlé základní operace s čísly (numba).\n",
    "\n",
    "Vaším úkolem je změřit potřebný čas pro vyřešení nějakého problému (např.: provést skalární součin, vypočítat určitý integrál) pomocí standardního pythonu a pomocí specializované knihovny. Toto měření proveďte alespoň pro 5 různých úloh (ne pouze jiná čísla, ale úplně jiné téma) a minimálně porovnejte rychlost jednoho modulu se standardním pythonem. Ideálně proveďte porovnání ještě s dalším modulem a snažte se, ať je kód ve standardním pythonu napsán efektivně. ​ "
   ]
  },
  {
   "cell_type": "code",
   "execution_count": 79,
   "id": "e91a376d",
   "metadata": {},
   "outputs": [],
   "source": [
    "import time\n",
    "import math\n",
    "import numpy as np \n",
    "import random\n",
    "import scipy\n",
    "import sympy\n",
    "import matplotlib.pyplot as plt"
   ]
  },
  {
   "cell_type": "code",
   "execution_count": 80,
   "id": "77b82994",
   "metadata": {},
   "outputs": [
    {
     "name": "stdout",
     "output_type": "stream",
     "text": [
      "Výsledek měření č.0: 0.0073909759521484375ms\n"
     ]
    }
   ],
   "source": [
    "# funkce pro mereni potrebneho casu\n",
    "def measure_time(f, x):\n",
    "    start = time.time()\n",
    "    f(x)\n",
    "    stop = time.time()\n",
    "    return (stop - start) * 1000\n",
    "\n",
    "t0 = measure_time(lambda x: math.sqrt(x), 16788888)\n",
    "print(f'Výsledek měření č.0: {t0}ms')\n",
    "\n",
    "x_symbol = sympy.Symbol('x')"
   ]
  },
  {
   "cell_type": "markdown",
   "id": "bdeed5f2",
   "metadata": {},
   "source": [
    "### Skalární součin\n"
   ]
  },
  {
   "cell_type": "code",
   "execution_count": 81,
   "id": "50dcb7cd",
   "metadata": {},
   "outputs": [
    {
     "name": "stdout",
     "output_type": "stream",
     "text": [
      "Skalární součin -- 3 prvky\n",
      "standardní python: 0.0045299530029296875ms\n",
      "numpy: 0.24271011352539062ms\n",
      "\n",
      "Skalární součin -- 1000 prvků\n",
      "standardní python: 0.23698806762695312ms\n",
      "numpy: 0.27298927307128906ms\n"
     ]
    }
   ],
   "source": [
    "# implementace skalarniho soucinu pomocí standardního Pythonu\n",
    "def skalarni_soucin(a, b):\n",
    "    soucin = 0\n",
    "    for i in range(len(a)):\n",
    "        soucin+= a[i] * b[i]\n",
    "    return soucin\n",
    "\n",
    "def gen_vector(size, min=-1000, max=1000):\n",
    "    vector = []\n",
    "    for num in range(size):\n",
    "        vector.append(random.randint(min, max))\n",
    "            \n",
    "    return vector\n",
    "\n",
    "\n",
    "# provedeni testu\n",
    "a1 = [304, -987, 2.689]\n",
    "b1 = [27, 93.3922, -232]\n",
    "\n",
    "print('Skalární součin -- 3 prvky')\n",
    "# standardni Python\n",
    "t1a = measure_time(lambda x: skalarni_soucin(x[0], x[1]), [a1, b1])\n",
    "print(f'standardní python: {t1a}ms')\n",
    "# prevedeni senzamu na NumPy arrays\n",
    "a1_np = np.array(a1)\n",
    "b1_np = np.array(b1)\n",
    "# NumPy\n",
    "t1b = measure_time(lambda x: np.dot(x[0], x[1]), [a1_np, b1_np])\n",
    "print(f'numpy: {t1b}ms')\n",
    "print()\n",
    "\n",
    "a2 = gen_vector(1000)\n",
    "b2 = gen_vector(1000)\n",
    "print('Skalární součin -- 1000 prvků')\n",
    "# standardni Python\n",
    "t2a = measure_time(lambda x: skalarni_soucin(x[0], x[1]), [a2, b2])\n",
    "print(f'standardní python: {t2a}ms')\n",
    "# prevedeni senzamu na NumPy arrays\n",
    "a2_np = np.array(a2)\n",
    "b2_np = np.array(b2)\n",
    "# NumPy\n",
    "t2b = measure_time(lambda x: np.dot(x[0], x[1]), [a2_np, b2_np])\n",
    "print(f'numpy: {t2b}ms')\n"
   ]
  },
  {
   "cell_type": "markdown",
   "id": "14947876",
   "metadata": {},
   "source": [
    "S rostoucím počtem prvků vektorů se stává využítí modulu NumPy efektivnější"
   ]
  },
  {
   "cell_type": "markdown",
   "id": "85cf62bd",
   "metadata": {},
   "source": [
    "### Určitý integrál"
   ]
  },
  {
   "cell_type": "code",
   "execution_count": 82,
   "id": "45875795",
   "metadata": {},
   "outputs": [
    {
     "name": "stdout",
     "output_type": "stream",
     "text": [
      "Určitý integrál\n",
      "standardní python: 0.059604644775390625ms\n",
      "numpy: 0.12254714965820312ms\n",
      "sympy: 43.76935958862305ms\n"
     ]
    }
   ],
   "source": [
    "# implementace urciteho integralu pomocí standardního Pythonu\n",
    "def urcity_integral(f, a, b, dx):\n",
    "    integral = 0\n",
    "    x = a\n",
    "    while x < b:\n",
    "        integral += dx * (f(x) + f(x+dx))/2\n",
    "        x += dx\n",
    "    return integral\n",
    "\n",
    "\n",
    "# provedeni testu\n",
    "def f(x): \n",
    "    return -3*x**2 + 4*x + 5\n",
    "\n",
    "\n",
    "a = 0\n",
    "b = 3\n",
    "dx = 0.1\n",
    "x = np.arange(a, b+dx, dx)\n",
    "y = f(x)\n",
    "\n",
    "print('Určitý integrál')\n",
    "# standardni Python\n",
    "t3a = measure_time(lambda x: urcity_integral(x[0], x[1], x[2], x[3]), [f, a, b, dx])\n",
    "print(f'standardní python: {t3a}ms')\n",
    "# SciPy integrate.simpson\n",
    "t3b = measure_time(lambda x: scipy.integrate.simpson(y=x[0], dx=x[1]), [y, dx])\n",
    "print(f'numpy: {t3b}ms')\n",
    "# SymPy integrate\n",
    "t3c = measure_time(lambda x: sympy.integrate(x[0], x[1]), [-3*x_symbol**2 + 4*x_symbol + 5, (x_symbol, a, b)])\n",
    "print(f'sympy: {t3c}ms')"
   ]
  },
  {
   "cell_type": "markdown",
   "id": "ad6748bb",
   "metadata": {},
   "source": [
    "Nejhůře dopadlo SymPy"
   ]
  },
  {
   "cell_type": "markdown",
   "id": "d4fbcbec",
   "metadata": {},
   "source": [
    "### Derivace v bodě\n",
    "\n"
   ]
  },
  {
   "cell_type": "code",
   "execution_count": 90,
   "id": "456bbb10",
   "metadata": {},
   "outputs": [
    {
     "name": "stdout",
     "output_type": "stream",
     "text": [
      "Derivace v bodě\n",
      "standardní python: 0.012874603271484375ms\n",
      "sympy: 0.499725341796875ms\n"
     ]
    }
   ],
   "source": [
    "# implementace derivace v bodě pomocí standardního Pythonu\n",
    "def derivace_v_bode(function, value):\n",
    "    h = 0.00000000001\n",
    "    top = function(value + h) - function(value)\n",
    "    bottom = h\n",
    "    return top / bottom\n",
    "\n",
    "\n",
    "\n",
    "# provedeni testu\n",
    "def f(x):\n",
    "    return x**15 - x**2 + 15\n",
    "\n",
    "print('Derivace v bodě')\n",
    "# standardni Python\n",
    "t4a = measure_time(lambda x: derivace_v_bode(x[0], x[1]), (f, 3))\n",
    "print(f'standardní python: {t4a}ms')\n",
    "# SymPy\n",
    "t4b = measure_time(lambda x: sympy.diff(x[0],x[1]).subs(x[1], x[2]), (x_symbol**15 - x_symbol**2 + 15, x_symbol, 3))\n",
    "print(f'sympy: {t4b}ms')"
   ]
  },
  {
   "cell_type": "markdown",
   "id": "43c07521",
   "metadata": {},
   "source": [
    "### Faktoriál"
   ]
  },
  {
   "cell_type": "code",
   "execution_count": 107,
   "id": "0256a3c6",
   "metadata": {},
   "outputs": [
    {
     "name": "stdout",
     "output_type": "stream",
     "text": [
      "Faktoriál\n",
      "standardní python: 0.1270771026611328ms\n",
      "math: 0.019550323486328125ms\n"
     ]
    }
   ],
   "source": [
    "# implementace faktoriálu pomocí standardního Pythonu\n",
    "def faktorial(n):\n",
    "    vysledek = 1\n",
    "    for i in range(1, n+1):\n",
    "        vysledek *= i\n",
    "    return vysledek\n",
    "\n",
    "\n",
    "# provedeni testu\n",
    "n = 156\n",
    "print('Faktoriál')\n",
    "# standardni Python\n",
    "t5a = measure_time(lambda x: faktorial(x), n)\n",
    "print(f'standardní python: {t5a}ms')\n",
    "# Math\n",
    "t5b = measure_time(lambda x: math.factorial(x), n)\n",
    "print(f'math: {t5b}ms')"
   ]
  },
  {
   "cell_type": "markdown",
   "id": "5462f887",
   "metadata": {},
   "source": [
    "### Počet kombinací"
   ]
  },
  {
   "cell_type": "code",
   "execution_count": 118,
   "id": "788fa186",
   "metadata": {},
   "outputs": [
    {
     "name": "stdout",
     "output_type": "stream",
     "text": [
      "Počet kombinací\n",
      "standardní python: 2.286672592163086ms\n",
      "math: 0.006198883056640625ms\n"
     ]
    }
   ],
   "source": [
    "# implementace faktoriálu pomocí standardního Pythonu\n",
    "def kombinace(n, k):\n",
    "    if k <= n:   \n",
    "        return int(faktorial(n) / (faktorial(k) * faktorial(n-k)))\n",
    "    else:\n",
    "        return 0\n",
    "    \n",
    "# provedeni testu\n",
    "n = 2000\n",
    "k = 6\n",
    "print('Počet kombinací')\n",
    "# standardni Python\n",
    "t6a = measure_time(lambda x: kombinace(x[0], x[1]), (n, k))\n",
    "print(f'standardní python: {t6a}ms')\n",
    "# Math\n",
    "t6b = measure_time(lambda x: math.comb(x[0], x[1]), (n, k))\n",
    "print(f'math: {t6b}ms')"
   ]
  }
 ],
 "metadata": {
  "kernelspec": {
   "display_name": "Python 3 (ipykernel)",
   "language": "python",
   "name": "python3"
  },
  "language_info": {
   "codemirror_mode": {
    "name": "ipython",
    "version": 3
   },
   "file_extension": ".py",
   "mimetype": "text/x-python",
   "name": "python",
   "nbconvert_exporter": "python",
   "pygments_lexer": "ipython3",
   "version": "3.9.7"
  }
 },
 "nbformat": 4,
 "nbformat_minor": 5
}
