{
 "cells": [
  {
   "cell_type": "markdown",
   "id": "e3ea2436",
   "metadata": {},
   "source": [
    "## 8. Derivace funkce jedné proměnné\n",
    "Numerická derivace je velice krátké téma. V hodinách jste se dozvěděli o nejvyužívanějších typech numerické derivace (dopředná, zpětná, centrální). Jedno z neřešených témat na hodinách byl problém volby kroku. V praxi je vhodné mít krok dynamicky nastavitelný. Algoritmům tohoto typu se říká derivace s adaptabilním krokem. Cílem tohoto zadání je napsat program, který provede numerickou derivaci s adaptabilním krokem pro vámi vybranou funkci. Proveďte srovnání se statickým krokem a analytickým řešením."
   ]
  },
  {
   "cell_type": "code",
   "execution_count": 6,
   "id": "14be2311",
   "metadata": {},
   "outputs": [],
   "source": [
    "import sympy"
   ]
  },
  {
   "cell_type": "code",
   "execution_count": 9,
   "id": "7f710914",
   "metadata": {},
   "outputs": [],
   "source": [
    "def forward_derivate(f, x0, h):\n",
    "    return (f(x0+h) - f(x0))/h\n",
    "\n",
    "def backward_derivate(f, x0, h):\n",
    "    return (f(x0) - f(x0-h))/h\n",
    "\n",
    "def central_derivate(f, x0, h):\n",
    "    return (f(x0+h) - f(x0-h))/(2*h)\n",
    "\n",
    "def adaptabilni_vypocet(f, x0, h, target_accuracy=0.001, max_steps=20):\n",
    "    steps = 0\n",
    "    while True:\n",
    "        steps +=1\n",
    "        forward = forward_derivate(f, x0, h)\n",
    "        backward = backward_derivate(f, x0, h)\n",
    "        central = central_derivate(f, x0, h)\n",
    "        odchylka = max(abs(forward-backward), abs(forward-central), abs(backward-central))\n",
    "        # pokud je dosazeno zadane presnosti nebo byl prekrocen maximalni pocet kroku\n",
    "        if odchylka < target_accuracy or steps > max_steps:\n",
    "            return {\"forward_derivation\": forward, \n",
    "                    \"backward_derivation\": backward, \n",
    "                    \"central_derivation\": central, \n",
    "                    \"adaptive step size\": h}\n",
    "        else:\n",
    "            h /= 2"
   ]
  },
  {
   "cell_type": "code",
   "execution_count": 10,
   "id": "4d46e73e",
   "metadata": {},
   "outputs": [
    {
     "name": "stdout",
     "output_type": "stream",
     "text": [
      "{'forward_derivation': 68.00028906127409, 'backward_derivation': 67.99971093641943, 'central_derivation': 67.99999999884676, 'adaptive step size': 3.90625e-06}\n"
     ]
    }
   ],
   "source": [
    "# zvolena funkce k derivaci\n",
    "f = lambda x: x**5 - x**3\n",
    "x0 = 2\n",
    "h = 0.001\n",
    "\n",
    "# adaptabilni krok\n",
    "print(adaptabilni_vypocet(f, x0, h))"
   ]
  },
  {
   "cell_type": "code",
   "execution_count": 11,
   "id": "c0f46585",
   "metadata": {},
   "outputs": [
    {
     "name": "stdout",
     "output_type": "stream",
     "text": [
      "68.07403900999276\n",
      "67.92603898999516\n",
      "68.00003899999396\n"
     ]
    }
   ],
   "source": [
    "# staticky krok\n",
    "print(forward_derivate(f, x0, h))\n",
    "print(backward_derivate(f, x0, h))\n",
    "print(central_derivate(f, x0, h))"
   ]
  },
  {
   "cell_type": "code",
   "execution_count": 12,
   "id": "54cd3434",
   "metadata": {},
   "outputs": [
    {
     "data": {
      "text/latex": [
       "$\\displaystyle 68.0$"
      ],
      "text/plain": [
       "68.0000000000000"
      ]
     },
     "execution_count": 12,
     "metadata": {},
     "output_type": "execute_result"
    }
   ],
   "source": [
    "# analyticke reseni\n",
    "x = sympy.Symbol('x')\n",
    "vyraz = x**5 - x**3\n",
    "\n",
    "sympy.diff(vyraz, x).evalf(subs={x: x0})\n"
   ]
  },
  {
   "cell_type": "code",
   "execution_count": null,
   "id": "60e3d377",
   "metadata": {},
   "outputs": [],
   "source": []
  }
 ],
 "metadata": {
  "kernelspec": {
   "display_name": "Python 3 (ipykernel)",
   "language": "python",
   "name": "python3"
  },
  "language_info": {
   "codemirror_mode": {
    "name": "ipython",
    "version": 3
   },
   "file_extension": ".py",
   "mimetype": "text/x-python",
   "name": "python",
   "nbconvert_exporter": "python",
   "pygments_lexer": "ipython3",
   "version": "3.9.7"
  }
 },
 "nbformat": 4,
 "nbformat_minor": 5
}
